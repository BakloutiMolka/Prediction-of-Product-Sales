{
  "nbformat": 4,
  "nbformat_minor": 0,
  "metadata": {
    "colab": {
      "provenance": [],
      "authorship_tag": "ABX9TyNWcT8Ij/BMV2kY5ABKLY7w",
      "include_colab_link": true
    },
    "kernelspec": {
      "name": "python3",
      "display_name": "Python 3"
    },
    "language_info": {
      "name": "python"
    }
  },
  "cells": [
    {
      "cell_type": "markdown",
      "metadata": {
        "id": "view-in-github",
        "colab_type": "text"
      },
      "source": [
        "<a href=\"https://colab.research.google.com/github/BakloutiMolka/Prediction-of-Product-Sales/blob/main/Prediction_of_Product_Sales.ipynb\" target=\"_parent\"><img src=\"https://colab.research.google.com/assets/colab-badge.svg\" alt=\"Open In Colab\"/></a>"
      ]
    },
    {
      "cell_type": "markdown",
      "source": [
        "#Prediction of Product Sales"
      ],
      "metadata": {
        "id": "8FZnshFXf7Yi"
      }
    },
    {
      "cell_type": "markdown",
      "source": [
        "- Author: Baklouti Molka"
      ],
      "metadata": {
        "id": "KOvkuj4RgHf_"
      }
    },
    {
      "cell_type": "markdown",
      "source": [
        "## Project Overview"
      ],
      "metadata": {
        "id": "Fclllu4_gQXK"
      }
    },
    {
      "cell_type": "markdown",
      "source": [],
      "metadata": {
        "id": "IGxjVo_TgVZR"
      }
    },
    {
      "cell_type": "markdown",
      "source": [
        "## Load and Inspect Data"
      ],
      "metadata": {
        "id": "ms1h1Tz1gYwr"
      }
    },
    {
      "cell_type": "markdown",
      "source": [
        "## Clean Data"
      ],
      "metadata": {
        "id": "nCB2oBWkgdsz"
      }
    },
    {
      "cell_type": "code",
      "source": [],
      "metadata": {
        "id": "B3uFioohgjjk"
      },
      "execution_count": null,
      "outputs": []
    },
    {
      "cell_type": "markdown",
      "source": [
        "## Exploratory Data Analysis"
      ],
      "metadata": {
        "id": "XknlbRyZgkLq"
      }
    },
    {
      "cell_type": "code",
      "source": [],
      "metadata": {
        "id": "-OvGGSGLgokZ"
      },
      "execution_count": null,
      "outputs": []
    },
    {
      "cell_type": "markdown",
      "source": [
        "## Feature Inspection"
      ],
      "metadata": {
        "id": "rQX0Ov4HgseZ"
      }
    },
    {
      "cell_type": "code",
      "source": [],
      "metadata": {
        "id": "oeJXqCaFgtKa"
      },
      "execution_count": null,
      "outputs": []
    }
  ]
}